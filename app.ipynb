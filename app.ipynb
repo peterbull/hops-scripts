{
 "cells": [
  {
   "cell_type": "code",
   "execution_count": 1,
   "metadata": {},
   "outputs": [],
   "source": [
    "#|default_exp app"
   ]
  },
  {
   "cell_type": "code",
   "execution_count": 2,
   "metadata": {},
   "outputs": [],
   "source": [
    "#|export\n",
    "from flask import Flask\n",
    "import ghhops_server as hs\n",
    "import rhino3dm"
   ]
  },
  {
   "cell_type": "code",
   "execution_count": 3,
   "metadata": {},
   "outputs": [],
   "source": [
    "#|export\n",
    "# register hops app as middleware\n",
    "app = Flask(__name__)\n",
    "hops: hs.HopsFlask = hs.Hops(app)"
   ]
  },
  {
   "cell_type": "code",
   "execution_count": 4,
   "metadata": {},
   "outputs": [],
   "source": [
    "#|export\n",
    "# float multiplication\n",
    "@hops.component(\n",
    "    \"/binmult\",\n",
    "    inputs=[hs.HopsNumber(\"A\"), hs.HopsNumber(\"B\")],\n",
    "    outputs=[hs.HopsNumber(\"Multiply\")],\n",
    ")\n",
    "def BinaryMultiply(a: float, b: float):\n",
    "    return a * b"
   ]
  },
  {
   "cell_type": "code",
   "execution_count": 5,
   "metadata": {},
   "outputs": [],
   "source": [
    "#|export\n",
    "# construct a rhino point from 3 float inputs\n",
    "@hops.component(\n",
    "    \"/construct_point\",\n",
    "    inputs=[hs.HopsNumber(\"X\"), hs.HopsNumber(\"Y\"), hs.HopsNumber(\"Z\")],\n",
    "    outputs=[hs.HopsPoint(\"Point\")],\n",
    ")\n",
    "def construct_point(x: float, y: float, z: float):\n",
    "    return rhino3dm.Point3d(x, y, z)"
   ]
  },
  {
   "cell_type": "code",
   "execution_count": 6,
   "metadata": {},
   "outputs": [],
   "source": [
    "#|export\n",
    "@hops.component(\n",
    "    \"/component_list\",\n",
    "    outputs=[hs.HopsString(\"C_list\", access=hs.HopsParamAccess.ITEM)],\n",
    ")\n",
    "def components():\n",
    "    local_ip = 'http://127.0.0.1:5000'\n",
    "    component_list = [f'{local_ip + k}' for k, v in hops._components.items()]\n",
    "    return component_list"
   ]
  },
  {
   "cell_type": "code",
   "execution_count": 7,
   "metadata": {},
   "outputs": [],
   "source": [
    "# def components():\n",
    "#     local_ip = 'http://127.0.0.1:5000'\n",
    "#     component_list = [f'{local_ip + k}' for k, v in hops._components.items()]\n",
    "#     return component_list"
   ]
  },
  {
   "cell_type": "code",
   "execution_count": 8,
   "metadata": {},
   "outputs": [],
   "source": [
    "# @hops.component(\n",
    "#     \"/component_list\",\n",
    "#     outputs=[hs.HopsString(f'{x}, access=hs.HopsParamAccess.') for x in components()]\n",
    "# )\n",
    "# def get_components():\n",
    "#     component_list = components()\n",
    "#     return component_list"
   ]
  },
  {
   "cell_type": "code",
   "execution_count": 10,
   "metadata": {},
   "outputs": [
    {
     "name": "stdout",
     "output_type": "stream",
     "text": [
      " * Serving Flask app '__main__'\n",
      " * Debug mode: off\n"
     ]
    },
    {
     "name": "stderr",
     "output_type": "stream",
     "text": [
      "[INFO] \u001b[31m\u001b[1mWARNING: This is a development server. Do not use it in a production deployment. Use a production WSGI server instead.\u001b[0m\n",
      " * Running on http://127.0.0.1:5000\n",
      "[INFO] \u001b[33mPress CTRL+C to quit\u001b[0m\n",
      "[INFO] Solving using legacy API: <HopsComponent /construct_point [X,Y,Z -> construct_point -> Point] >\n",
      "[INFO] 127.0.0.1 - - [19/Jun/2023 09:42:49] \"POST /solve HTTP/1.1\" 200 -\n"
     ]
    },
    {
     "name": "stdout",
     "output_type": "stream",
     "text": [
      "{'InnerTree': {'{0}': [{'data': '1.0', 'type': 'System.Double'}]},\n",
      " 'ParamName': 'X'}\n",
      "{'InnerTree': {'{0}': [{'data': '1.0', 'type': 'System.Double'}]},\n",
      " 'ParamName': 'Y'}\n",
      "{'InnerTree': {'{0}': [{'data': '1.0', 'type': 'System.Double'}]},\n",
      " 'ParamName': 'Z'}\n"
     ]
    },
    {
     "name": "stderr",
     "output_type": "stream",
     "text": [
      "[INFO] 127.0.0.1 - - [19/Jun/2023 09:43:00] \"GET /component_list HTTP/1.1\" 200 -\n",
      "[INFO] 127.0.0.1 - - [19/Jun/2023 09:43:00] \"GET /component_list HTTP/1.1\" 200 -\n",
      "[INFO] 127.0.0.1 - - [19/Jun/2023 09:43:00] \"GET /component_list HTTP/1.1\" 200 -\n",
      "[INFO] 127.0.0.1 - - [19/Jun/2023 09:43:00] \"GET /construct_point HTTP/1.1\" 200 -\n",
      "[INFO] 127.0.0.1 - - [19/Jun/2023 09:43:00] \"GET /construct_point HTTP/1.1\" 200 -\n",
      "[INFO] 127.0.0.1 - - [19/Jun/2023 09:43:00] \"GET /construct_point HTTP/1.1\" 200 -\n",
      "[INFO] Solving using legacy API: <HopsComponent /construct_point [X,Y,Z -> construct_point -> Point] >\n",
      "[INFO] 127.0.0.1 - - [19/Jun/2023 09:43:07] \"POST /solve HTTP/1.1\" 200 -\n"
     ]
    },
    {
     "name": "stdout",
     "output_type": "stream",
     "text": [
      "{'InnerTree': {'{0}': [{'data': '3.0', 'type': 'System.Double'}]},\n",
      " 'ParamName': 'X'}\n",
      "{'InnerTree': {'{0}': [{'data': '3.0', 'type': 'System.Double'}]},\n",
      " 'ParamName': 'Y'}\n",
      "{'InnerTree': {'{0}': [{'data': '3.0', 'type': 'System.Double'}]},\n",
      " 'ParamName': 'Z'}\n"
     ]
    }
   ],
   "source": [
    "#|export\n",
    "# run flask app\n",
    "if __name__ == '__main__':\n",
    "    app.run()"
   ]
  },
  {
   "cell_type": "code",
   "execution_count": null,
   "metadata": {},
   "outputs": [],
   "source": [
    "import nbdev\n",
    "nbdev.export.nb_export('app.ipynb', 'app')"
   ]
  },
  {
   "cell_type": "code",
   "execution_count": null,
   "metadata": {},
   "outputs": [],
   "source": []
  }
 ],
 "metadata": {
  "kernelspec": {
   "display_name": "base",
   "language": "python",
   "name": "python3"
  },
  "language_info": {
   "codemirror_mode": {
    "name": "ipython",
    "version": 3
   },
   "file_extension": ".py",
   "mimetype": "text/x-python",
   "name": "python",
   "nbconvert_exporter": "python",
   "pygments_lexer": "ipython3",
   "version": "3.10.10"
  },
  "orig_nbformat": 4
 },
 "nbformat": 4,
 "nbformat_minor": 2
}
