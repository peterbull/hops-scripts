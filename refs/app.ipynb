{
 "cells": [
  {
   "cell_type": "code",
   "execution_count": null,
   "metadata": {},
   "outputs": [],
   "source": [
    "from flask import Flask\n",
    "import ghhops_server as hs\n",
    "import rhino3dm"
   ]
  },
  {
   "cell_type": "code",
   "execution_count": null,
   "metadata": {},
   "outputs": [],
   "source": [
    "# register hops app as middleware\n",
    "app = Flask(__name__)\n",
    "hops: hs.HopsFlask = hs.Hops(app)"
   ]
  },
  {
   "cell_type": "code",
   "execution_count": null,
   "metadata": {},
   "outputs": [],
   "source": [
    "# flask app can be used for other stuff drectly\n",
    "@app.route(\"/help\")\n",
    "def help():\n",
    "    return \"Welcome to Grashopper Hops for CPython!\""
   ]
  },
  {
   "cell_type": "code",
   "execution_count": null,
   "metadata": {},
   "outputs": [],
   "source": [
    "@hops.component(\n",
    "    \"/binmult\",\n",
    "    inputs=[hs.HopsNumber(\"A\"), hs.HopsNumber(\"B\")],\n",
    "    outputs=[hs.HopsNumber(\"Multiply\")],\n",
    ")\n",
    "def BinaryMultiply(a: float, b: float):\n",
    "    return a * b"
   ]
  },
  {
   "cell_type": "code",
   "execution_count": null,
   "metadata": {},
   "outputs": [],
   "source": [
    "from fastai.tabular.all import *"
   ]
  },
  {
   "cell_type": "code",
   "execution_count": null,
   "metadata": {},
   "outputs": [],
   "source": [
    "@hops.component(\n",
    "    \"/predict\",\n",
    "    name=\"Predict\",\n",
    "    description=\"Predict the performance with given solar chimney design parameters\",\n",
    "    inputs=[\n",
    "        hs.HopsNumber(\"SolarChimneyHeight\", \"test\")\n",
    "    ],\n",
    "    outputs=[\n",
    "        hs.HopsNumber(\"FlowRate\", \"flow_rate\"),\n",
    "    ],\n",
    ")\n",
    "def predict(test):\n",
    "    for i in range(test):\n",
    "        res += i\n",
    "    return res.tolist()"
   ]
  },
  {
   "cell_type": "code",
   "execution_count": null,
   "metadata": {},
   "outputs": [],
   "source": [
    "@hops.component(\n",
    "    \"/tensor\",\n",
    "    name=\"tensor\",\n",
    "    description=\"test passing converting lists to tensors and back\",\n",
    "    inputs=[\n",
    "        hs.HopsNumber(\"Input List\", \"L\", \"input_list\", access=hs.HopsParamAccess.LIST)\n",
    "    ],\n",
    "    outputs=[\n",
    "        hs.HopsNumber(\"Output List\", \"L\", \"output_list\", access=hs.HopsParamAccess.LIST)\n",
    "    ],\n",
    ")\n",
    "def tens_test(input_list):\n",
    "    tens = tensor(input_list)\n",
    "    tens = tens.unsqueeze(dim=1)\n",
    "    output_list = tens\n",
    "    return output_list"
   ]
  },
  {
   "cell_type": "code",
   "execution_count": null,
   "metadata": {},
   "outputs": [],
   "source": [
    "# @hops.component(\n",
    "#     \"/minmax_xy\",\n",
    "#     name=\"minmax_xy\",\n",
    "#     description=\"Returns the Min and Max X and Y values for a set of points\",\n",
    "#     inputs=[\n",
    "#         hs.HopsNumber(\"Input List\", \"L\", \"input_list\", access=hs.HopsParamAccess.LIST)\n",
    "#     ],\n",
    "#     outputs=[\n",
    "#         hs.HopsNumber(\"Output List\", \"L\", \"output_list\", access=hs.HopsParamAccess.LIST)\n",
    "#     ],\n",
    "# )"
   ]
  },
  {
   "cell_type": "code",
   "execution_count": null,
   "metadata": {},
   "outputs": [],
   "source": [
    "@hops.component(\n",
    "    \"/external_tens\",\n",
    "    name=\"external_tens\"\n",
    "    inputs=[\n",
    "        hs.HopsNumber(\"Dummy Num\", \"N\")\n",
    "    ]\n",
    "    outputs=[\n",
    "        hs.HopsNumber(\"Output List\", \"L\", \"output_list\", access=hs.HopsParamAccess.LIST)\n",
    "    ],\n",
    ")\n",
    "def return_tensor():\n",
    "    output_list = x_train\n",
    "    return x_train.tolist()"
   ]
  },
  {
   "cell_type": "code",
   "execution_count": null,
   "metadata": {},
   "outputs": [],
   "source": [
    "@hops.component(\n",
    "    \"/matplotsurf\",\n",
    "    name=\"matplotsurf\",\n",
    "    inputs=[\n",
    "        hs.HopsNumber(\"x\", \"X\"),\n",
    "        hs.HopsNumber(\"y\", \"Y\"),\n",
    "        hs.HopsNumber(\"z\", \"Z\"),\n",
    "    ],\n",
    "    outputs=[\n",
    "        hs.HopsNumber(\"x\", \"X\"),\n",
    "        hs.HopsNumber(\"y\", \"Y\"),\n",
    "        hs.HopsNumber(\"z\", \"Z\"),\n",
    "    ],\n",
    ")\n",
    "def threesurf(x, y, z):\n",
    "    x = np.linspace(-x, x, 101)\n",
    "    y = np.linspace(-y, y, 101)\n",
    "    z = np.sinc(np.sqrt(x**2 + y**2)) - np.exp(-0.1*(x**2 + y**2))\n",
    "    return x.tolist(), y.tolist(), z.tolist()"
   ]
  },
  {
   "cell_type": "code",
   "execution_count": null,
   "metadata": {},
   "outputs": [],
   "source": [
    "if __name__ == '__main__':\n",
    "    app.run()"
   ]
  },
  {
   "cell_type": "code",
   "execution_count": null,
   "metadata": {},
   "outputs": [],
   "source": [
    "print(\"test\")"
   ]
  },
  {
   "cell_type": "code",
   "execution_count": null,
   "metadata": {},
   "outputs": [],
   "source": [
    "hs.HopsParamAccess."
   ]
  }
 ],
 "metadata": {
  "kernelspec": {
   "display_name": "base",
   "language": "python",
   "name": "python3"
  },
  "language_info": {
   "codemirror_mode": {
    "name": "ipython",
    "version": 3
   },
   "file_extension": ".py",
   "mimetype": "text/x-python",
   "name": "python",
   "nbconvert_exporter": "python",
   "pygments_lexer": "ipython3",
   "version": "3.10.10"
  },
  "orig_nbformat": 4
 },
 "nbformat": 4,
 "nbformat_minor": 2
}
